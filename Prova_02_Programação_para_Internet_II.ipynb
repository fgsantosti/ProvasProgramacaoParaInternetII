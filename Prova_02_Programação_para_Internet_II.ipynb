{
  "nbformat": 4,
  "nbformat_minor": 0,
  "metadata": {
    "colab": {
      "provenance": [],
      "authorship_tag": "ABX9TyNp89OHw0WWAfX6uQ6nzfgA",
      "include_colab_link": true
    },
    "kernelspec": {
      "name": "python3",
      "display_name": "Python 3"
    },
    "language_info": {
      "name": "python"
    }
  },
  "cells": [
    {
      "cell_type": "markdown",
      "metadata": {
        "id": "view-in-github",
        "colab_type": "text"
      },
      "source": [
        "<a href=\"https://colab.research.google.com/github/fgsantosti/ProvasProgramacaoParaInternetII/blob/main/Prova_02_Programa%C3%A7%C3%A3o_para_Internet_II.ipynb\" target=\"_parent\"><img src=\"https://colab.research.google.com/assets/colab-badge.svg\" alt=\"Open In Colab\"/></a>"
      ]
    },
    {
      "cell_type": "markdown",
      "source": [
        "## **Prova 02 - Programação para Internet II**\n",
        "\n",
        "A prova terá como base a documentação do site oficial: \n",
        "* ref. https://docs.djangoproject.com/pt-br/4.1/topics/db/queries/\n",
        "\n"
      ],
      "metadata": {
        "id": "vS2A1FlaqnCk"
      }
    },
    {
      "cell_type": "markdown",
      "source": [
        "Crie uma pasta com o nome da sua preferencia, e dentro dela crie o seu\n",
        "ambiente virtual com o comando\n"
      ],
      "metadata": {
        "id": "uK-HgF5tsCUb"
      }
    },
    {
      "cell_type": "code",
      "execution_count": null,
      "metadata": {
        "id": "d5heAAYsqiXI"
      },
      "outputs": [],
      "source": [
        "virtualenv venv"
      ]
    },
    {
      "cell_type": "markdown",
      "source": [
        "Ative o ambiente virtual\n"
      ],
      "metadata": {
        "id": "i19HW-qWsIEE"
      }
    },
    {
      "cell_type": "code",
      "source": [
        ". env/bin/activate"
      ],
      "metadata": {
        "id": "jOR79Q5AsE8j"
      },
      "execution_count": null,
      "outputs": []
    },
    {
      "cell_type": "markdown",
      "source": [
        "Instale o Django\n"
      ],
      "metadata": {
        "id": "uiWGgf03sLDQ"
      }
    },
    {
      "cell_type": "code",
      "source": [
        "pip install django"
      ],
      "metadata": {
        "id": "Zpji4NnksPPB"
      },
      "execution_count": null,
      "outputs": []
    },
    {
      "cell_type": "code",
      "source": [
        "django-admin startproject core . #criando o projeto\n",
        "python manage.py startapp livraria #criando a app"
      ],
      "metadata": {
        "id": "RDSGAWmRsRp6"
      },
      "execution_count": null,
      "outputs": []
    },
    {
      "cell_type": "markdown",
      "source": [
        "Configurações settings.py"
      ],
      "metadata": {
        "id": "-SYegfISsXnN"
      }
    },
    {
      "cell_type": "code",
      "source": [
        "INSTALLED_APPS = [\n",
        "    ...\n",
        "    'livraria',\n",
        "]"
      ],
      "metadata": {
        "id": "ryKwNa4dsc7r"
      },
      "execution_count": null,
      "outputs": []
    },
    {
      "cell_type": "markdown",
      "source": [
        "Inserir no models \n"
      ],
      "metadata": {
        "id": "gzuTq6o3sd5t"
      }
    },
    {
      "cell_type": "code",
      "source": [
        "from django.db import models\n",
        "from datetime import date\n",
        "class Autor(models.Model):\n",
        "    nome = models.CharField(max_length=200)\n",
        "    descricao = models.TextField(max_length=600)\n",
        "\n",
        "    def __str__(self):\n",
        "        return self.nome\n",
        "\n",
        "class Categoria(models.Model):\n",
        "    nome = models.CharField(max_length=200)\n",
        "    descricao = models.TextField(max_length=600)\n",
        "\n",
        "    def __str__(self):\n",
        "        return self.nome \n",
        "\n",
        "class Livro(models.Model):\n",
        "    nome = models.CharField(max_length=200)\n",
        "    autor = models.ManyToManyField(Autor, blank = True) #relacionamento m-n muito-para-muitos\n",
        "    categoria = models.ForeignKey(Categoria, on_delete=models.CASCADE, verbose_name=\"Categoria\") #relacionamento 1-n\n",
        "    codigo = models.CharField(max_length=20)\n",
        "    quantidade = models.IntegerField()\n",
        "    valor = models.FloatField()\n",
        "    data_publicacao = models.DateField()\n",
        "    data_modificacao = models.DateField(default=date.today)\n",
        "    ano = models.IntegerField()\n",
        "    descricao = models.TextField()\n",
        "    numeros_comentarios = models.IntegerField(default=0)\n",
        "\n",
        "    def __str__(self):\n",
        "        return self.nome "
      ],
      "metadata": {
        "id": "8UXFtuFsuTXY"
      },
      "execution_count": null,
      "outputs": []
    },
    {
      "cell_type": "code",
      "source": [
        "python manage.py makemigrations livraria\n",
        "python manage.py migrate"
      ],
      "metadata": {
        "id": "cF9lmjyPsj6S"
      },
      "execution_count": null,
      "outputs": []
    },
    {
      "cell_type": "markdown",
      "source": [
        "Para entrar "
      ],
      "metadata": {
        "id": "qe_yFLftsrpP"
      }
    },
    {
      "cell_type": "code",
      "source": [
        "python manage.py shell"
      ],
      "metadata": {
        "id": "GG-afqqsstOk"
      },
      "execution_count": null,
      "outputs": []
    },
    {
      "cell_type": "markdown",
      "source": [
        "## QUESTÕES"
      ],
      "metadata": {
        "id": "kjpIjjFCtD-E"
      }
    },
    {
      "cell_type": "markdown",
      "source": [
        "Questão 1- Utilizando seus conhecimentos sobre queryset e ORM. \n",
        "1. Crie um script para inserir 5 Autores \n",
        "utilizando o model Autor. \n",
        "2. Faça a inserção de 5 Categorias utilizando o model Categoria. \n",
        "3. Faça a inserção de 3 Livros utilizando o model Livro."
      ],
      "metadata": {
        "id": "fz9zBUlctIR3"
      }
    },
    {
      "cell_type": "markdown",
      "source": [
        "Nossa sistema agora tem 13 informações, 5 autores, 5 categorias e 3 livros \n",
        "inseridos. Para facilitar aumentar essa quantidade de dados para realizarmos \n",
        "nossas consultas, vamos carregar dados para a nossa aplicação. \n",
        "Para isso utilizaremos um arquivo .json que será disponibilizado. \n",
        "\n",
        "\n",
        "Salve o arquivo abaixo com o nome de `dados_prova.json` "
      ],
      "metadata": {
        "id": "koqOw5AdthCD"
      }
    },
    {
      "cell_type": "code",
      "source": [
        "[\n",
        "{\n",
        "  \"model\": \"livraria.autor\",\n",
        "  \"pk\": 1,\n",
        "  \"fields\": {\n",
        "    \"nome\": \"Tanenbaum\",\n",
        "    \"descricao\": \"Doutor em Redes de Computadores\"\n",
        "  }\n",
        "},\n",
        "{\n",
        "    \"model\": \"livraria.autor\",\n",
        "    \"pk\": 2,\n",
        "    \"fields\": {\n",
        "      \"nome\": \"Felipe\",\n",
        "      \"descricao\": \"Mestre em Sistemas de Comunicação e Automação\"\n",
        "    }\n",
        "},\n",
        "{\n",
        "    \"model\": \"livraria.autor\",\n",
        "    \"pk\": 3,\n",
        "    \"fields\": {\n",
        "      \"nome\": \"Juan\",\n",
        "      \"descricao\": \"Mestre em Gestão de Tecnologia Ambiental\"\n",
        "    }\n",
        "},\n",
        "{\n",
        "    \"model\": \"livraria.autor\",\n",
        "    \"pk\": 4,\n",
        "    \"fields\": {\n",
        "      \"nome\": \"Karl\",\n",
        "      \"descricao\": \"Mestre em Ciência da Computação\"\n",
        "    }\n",
        "},\n",
        "{\n",
        "    \"model\": \"livraria.autor\",\n",
        "    \"pk\": 5,\n",
        "    \"fields\": {\n",
        "      \"nome\": \"Nazareno\",\n",
        "      \"descricao\": \"Mestre em Ciência da Computação\"\n",
        "    }\n",
        "},\n",
        "{\n",
        "    \"model\": \"livraria.autor\",\n",
        "    \"pk\": 6,\n",
        "    \"fields\": {\n",
        "      \"nome\": \"Lailson\",\n",
        "      \"descricao\": \"Especialista em Ciência da Computação\"\n",
        "    }\n",
        "},\n",
        "{\n",
        "    \"model\": \"livraria.categoria\",\n",
        "    \"pk\": 1,\n",
        "    \"fields\": {\n",
        "      \"nome\": \"Algoritmos e Programação\",\n",
        "      \"descricao\": \"Disciplina do Modulo 1 de ADS\"\n",
        "    }\n",
        "},\n",
        "{\n",
        "    \"model\": \"livraria.categoria\",\n",
        "    \"pk\": 2,\n",
        "    \"fields\": {\n",
        "      \"nome\": \"Programação Orientada a Objetos\",\n",
        "      \"descricao\": \"Disciplina do Modulo 2 de ADS\"\n",
        "    }\n",
        "},\n",
        "{\n",
        "    \"model\": \"livraria.categoria\",\n",
        "    \"pk\": 3,\n",
        "    \"fields\": {\n",
        "      \"nome\": \"Estrutura de Dados \",\n",
        "      \"descricao\": \"Disciplina do Modulo 2 de ADS\"\n",
        "    }\n",
        "},\n",
        "{\n",
        "    \"model\": \"livraria.categoria\",\n",
        "    \"pk\": 4,\n",
        "    \"fields\": {\n",
        "      \"nome\": \"Banco de Dados\",\n",
        "      \"descricao\": \"Disciplina do Modulo 2 de ADS\"\n",
        "    }\n",
        "},\n",
        "{\n",
        "    \"model\": \"livraria.categoria\",\n",
        "    \"pk\": 5,\n",
        "    \"fields\": {\n",
        "      \"nome\": \"Engenharia de Software\",\n",
        "      \"descricao\": \"Disciplina do Modulo 2 de ADS\"\n",
        "    }\n",
        "},\n",
        "{\n",
        "    \"model\": \"livraria.categoria\",\n",
        "    \"pk\": 6,\n",
        "    \"fields\": {\n",
        "      \"nome\": \"Programação para Internet\",\n",
        "      \"descricao\": \"Disciplina do Modulo 2 de ADS\"\n",
        "    }\n",
        "},\n",
        "{\n",
        "    \"model\": \"livraria.categoria\",\n",
        "    \"pk\": 7,\n",
        "    \"fields\": {\n",
        "      \"nome\": \"Sistemas Distribuídos\",\n",
        "      \"descricao\": \"Disciplina não tem no ADS\"\n",
        "    }\n",
        "},\n",
        "{\n",
        "    \"model\": \"livraria.categoria\",\n",
        "    \"pk\": 8,\n",
        "    \"fields\": {\n",
        "      \"nome\": \"Inteligência Artificial\",\n",
        "      \"descricao\": \"Disciplina tem no modulo III no ADS\"\n",
        "    }\n",
        "},\n",
        "{\n",
        "    \"model\": \"livraria.categoria\",\n",
        "    \"pk\": 9,\n",
        "    \"fields\": {\n",
        "      \"nome\": \"Sistemas Operacionais \",\n",
        "      \"descricao\": \"Disciplina tem no modulo III no ADS\"\n",
        "    }\n",
        "},\n",
        "{\n",
        "    \"model\": \"livraria.categoria\",\n",
        "    \"pk\": 10,\n",
        "    \"fields\": {\n",
        "      \"nome\": \"Arquitetura de Computadores\",\n",
        "      \"descricao\": \"Disciplina tem no modulo III no ADS\"\n",
        "    }\n",
        "},\n",
        "{\n",
        "    \"model\": \"livraria.categoria\",\n",
        "    \"pk\": 11,\n",
        "    \"fields\": {\n",
        "      \"nome\": \"Redes de Computadores\",\n",
        "      \"descricao\": \"Disciplina tem no modulo IV do ADS\"\n",
        "    }\n",
        "},\n",
        "{\n",
        "    \"model\": \"livraria.livro\",\n",
        "    \"pk\": 1,\n",
        "    \"fields\": {      \n",
        "      \"nome\": \"Redes de Computadores\",\n",
        "      \"categoria\": 11,\n",
        "      \"codigo\": 1111,\n",
        "      \"quantidade\": 200,\n",
        "      \"valor\": 400,\n",
        "      \"data_publicacao\": \"2008-06-01\",\n",
        "      \"data_modificacao\": \"2008-06-01\",\n",
        "      \"ano\": 2008,\n",
        "      \"descricao\": \"Um Redes de Computadores completo\",\n",
        "      \"numeros_comentarios\": 2000,\n",
        "      \"autor\": [\n",
        "        1,\n",
        "        2\n",
        "      ]\n",
        "    }\n",
        "},\n",
        "{\n",
        "    \"model\": \"livraria.livro\",\n",
        "    \"pk\": 2,\n",
        "    \"fields\": {      \n",
        "      \"nome\": \"Algoritmos e Programação Avançado\",\n",
        "      \"categoria\": 1,\n",
        "      \"codigo\": 1122,\n",
        "      \"quantidade\": 200,\n",
        "      \"valor\": 800,\n",
        "      \"data_publicacao\": \"2020-06-01\",\n",
        "      \"data_modificacao\": \"2020-06-01\",\n",
        "      \"ano\": 2020,\n",
        "      \"descricao\": \"Um livro de Algoritmos e Programação completo\",\n",
        "      \"numeros_comentarios\": 900,\n",
        "      \"autor\": [\n",
        "        2, \n",
        "        6\n",
        "      ]\n",
        "    }\n",
        "},\n",
        "{\n",
        "    \"model\": \"livraria.livro\",\n",
        "    \"pk\": 3,\n",
        "    \"fields\": {      \n",
        "      \"nome\": \"Gestão e Tecnologia voltada ao Meio Ambiente\",\n",
        "      \"categoria\": 7,\n",
        "      \"codigo\": 5533,\n",
        "      \"quantidade\": 400,\n",
        "      \"valor\": 500,\n",
        "      \"data_publicacao\": \"2021-06-01\",\n",
        "      \"data_modificacao\": \"2021-06-01\",\n",
        "      \"ano\": 2021,\n",
        "      \"descricao\": \"Um livro de Gestão e Tecnologia completo\",\n",
        "      \"numeros_comentarios\": 1000,\n",
        "      \"autor\": [\n",
        "        3, \n",
        "        4,\n",
        "        5\n",
        "      ]\n",
        "    }\n",
        "},\n",
        "{\n",
        "    \"model\": \"livraria.livro\",\n",
        "    \"pk\": 4,\n",
        "    \"fields\": {      \n",
        "      \"nome\": \"Banco de Dados\",\n",
        "      \"categoria\": 4,\n",
        "      \"codigo\": 7777,\n",
        "      \"quantidade\": 1000,\n",
        "      \"valor\": 300,\n",
        "      \"data_publicacao\": \"2000-06-01\",\n",
        "      \"data_modificacao\": \"2000-06-01\",\n",
        "      \"ano\": 2000,\n",
        "      \"descricao\": \"Um livro de Banco de Dados completo\",\n",
        "      \"numeros_comentarios\": 1000,\n",
        "      \"autor\": [\n",
        "        4,\n",
        "        2\n",
        "      ]\n",
        "    }\n",
        "},\n",
        "{\n",
        "    \"model\": \"livraria.livro\",\n",
        "    \"pk\": 5,\n",
        "    \"fields\": {      \n",
        "      \"nome\": \"Inteligência Artificial utilizando C++\",\n",
        "      \"categoria\": 8,\n",
        "      \"codigo\": 5544,\n",
        "      \"quantidade\": 600,\n",
        "      \"valor\": 1500,\n",
        "      \"data_publicacao\": \"2006-06-01\",\n",
        "      \"data_modificacao\": \"2006-06-01\",\n",
        "      \"ano\": 2006,\n",
        "      \"descricao\": \"Um livro de Inteligência Artificial completo\",\n",
        "      \"numeros_comentarios\": 1000,\n",
        "      \"autor\": [\n",
        "       6,\n",
        "       1\n",
        "      ]\n",
        "    }\n",
        "},\n",
        "{\n",
        "  \"model\": \"livraria.livro\",\n",
        "  \"pk\": 6,\n",
        "  \"fields\": {      \n",
        "    \"nome\": \"Redes de Computadores Modernas e Avançadas\",\n",
        "    \"categoria\": 11,\n",
        "    \"codigo\": 4040,\n",
        "    \"quantidade\": 200,\n",
        "    \"valor\": 400,\n",
        "    \"data_publicacao\": \"1990-08-01\",\n",
        "    \"data_modificacao\": \"1990-08-01\",\n",
        "    \"ano\": 1990,\n",
        "    \"descricao\": \"Um Redes de Computadores completo\",\n",
        "    \"numeros_comentarios\": 2000,\n",
        "    \"autor\": [\n",
        "      1,\n",
        "      2\n",
        "    ]\n",
        "  }\n",
        "},\n",
        "{\n",
        "  \"model\": \"livraria.livro\",\n",
        "  \"pk\": 7,\n",
        "  \"fields\": {      \n",
        "    \"nome\": \"Algoritmos e Programação Para Iniciantes\",\n",
        "    \"categoria\": 1,\n",
        "    \"codigo\": 9999,\n",
        "    \"quantidade\": 200,\n",
        "    \"valor\": 750,\n",
        "    \"data_publicacao\": \"1998-08-04\",\n",
        "    \"data_modificacao\": \"2000-08-04\",\n",
        "    \"ano\": 1998,\n",
        "    \"descricao\": \"Um livro de Algoritmos e Programação completo\",\n",
        "    \"numeros_comentarios\": 1900,\n",
        "    \"autor\": [\n",
        "      2, \n",
        "      6\n",
        "    ]\n",
        "  }\n",
        "},\n",
        "{\n",
        "  \"model\": \"livraria.livro\",\n",
        "  \"pk\": 8,\n",
        "  \"fields\": {      \n",
        "    \"nome\": \"Gestão e Tecnologia voltada ao Meio Ambiente: Uma aplicação prática\",\n",
        "    \"categoria\": 7,\n",
        "    \"codigo\": 666,\n",
        "    \"quantidade\": 10,\n",
        "    \"valor\": 250,\n",
        "    \"data_publicacao\": \"2000-12-12\",\n",
        "    \"data_modificacao\": \"2000-12-12\",\n",
        "    \"ano\": 1999,\n",
        "    \"descricao\": \"Um livro de Gestão e Tecnologia completo\",\n",
        "    \"numeros_comentarios\": 6000,\n",
        "    \"autor\": [\n",
        "      3, \n",
        "      4,\n",
        "      5\n",
        "    ]\n",
        "  }\n",
        "},\n",
        "{\n",
        "  \"model\": \"livraria.livro\",\n",
        "  \"pk\": 9,\n",
        "  \"fields\": {      \n",
        "    \"nome\": \"Banco de Dados Avançado\",\n",
        "    \"categoria\": 4,\n",
        "    \"codigo\": 7776,\n",
        "    \"quantidade\": 100,\n",
        "    \"valor\": 600,\n",
        "    \"data_publicacao\": \"2000-06-01\",\n",
        "    \"data_modificacao\": \"2000-06-01\",\n",
        "    \"ano\": 2000,\n",
        "    \"descricao\": \"Um livro de Banco de Dados completo\",\n",
        "    \"numeros_comentarios\": 10000,\n",
        "    \"autor\": [\n",
        "      4,\n",
        "      2\n",
        "    ]\n",
        "  }\n",
        "},\n",
        "{\n",
        "  \"model\": \"livraria.livro\",\n",
        "  \"pk\": 10,\n",
        "  \"fields\": {      \n",
        "    \"nome\": \"Inteligência Artificial utilizando Python\",\n",
        "    \"categoria\": 8,\n",
        "    \"codigo\": 1144,\n",
        "    \"quantidade\": 10,\n",
        "    \"valor\": 2000,\n",
        "    \"data_publicacao\": \"2010-06-01\",\n",
        "    \"data_modificacao\": \"2010-06-01\",\n",
        "    \"ano\": 2010,\n",
        "    \"descricao\": \"Um livro de Inteligência Artificial completo\",\n",
        "    \"numeros_comentarios\": 11000,\n",
        "    \"autor\": [\n",
        "     6,\n",
        "     1\n",
        "    ]\n",
        "  }\n",
        "}\n",
        "]"
      ],
      "metadata": {
        "id": "Efwb6_EytHfO"
      },
      "execution_count": null,
      "outputs": []
    },
    {
      "cell_type": "code",
      "source": [
        "python manage.py loaddata dados_prova.json"
      ],
      "metadata": {
        "id": "63uFkZT7ufgr"
      },
      "execution_count": null,
      "outputs": []
    },
    {
      "cell_type": "markdown",
      "source": [
        "Este comando adicionará o conteúdo do arquivo load_dados_blog.json ao banco de dados nas tabelas Autor, Categoria e Livro. "
      ],
      "metadata": {
        "id": "kY9aqmHPurQu"
      }
    },
    {
      "cell_type": "markdown",
      "source": [
        "Questão 2. Utilizando seus conhecimentos sobre Queryset e ORM. \n",
        "1. Crie uma consulta que traga todos os livros inseridos depois de 2000.\n",
        "2. Crie uma consulta que traga todos os livros inseridos antes de 2000.\n",
        "3. Crie uma consulta que traga o livro com o código 666, em seguida faça a alteração \n",
        "do código desse livro para 8888."
      ],
      "metadata": {
        "id": "FzHheXQPut-w"
      }
    },
    {
      "cell_type": "markdown",
      "source": [
        "Questão 3 - Vamos agora realizar filtros que abrangem os relacionamentos. \n",
        "1. Retorne com um consulta todos os livros do grande autor Tanenbaum.\n",
        "2. Retorne com um consulta todos os livros do grande Lailson que foram publicados \n",
        "depois de 2006.\n",
        "3. Retorne o livro com mais comentários e apresente o nome do livro e seus autores. \n",
        "4. Retorne o livro mais antigo inserido.  "
      ],
      "metadata": {
        "id": "9vhKMhInu-LU"
      }
    },
    {
      "cell_type": "markdown",
      "source": [
        "Quetão 4 - Hora de mostrar seus conhecimentos. \n",
        "1. Dado que temos a impressão da Queryset \n",
        "\n",
        "\n",
        "\n"
      ],
      "metadata": {
        "id": "lDCxGrPwvFLS"
      }
    },
    {
      "cell_type": "code",
      "source": [
        "queryset = Entry.objects.all()\n",
        "print([p.headline for p in queryset]) \n",
        "print([p.pub_date for p in queryset]) "
      ],
      "metadata": {
        "id": "ZE5hRlAOvTpn"
      },
      "execution_count": null,
      "outputs": []
    },
    {
      "cell_type": "markdown",
      "source": [
        "O que está acontecendo no momento em que é realizado essas duas interações sequencialmente?"
      ],
      "metadata": {
        "id": "m6QQm64yvSb6"
      }
    },
    {
      "cell_type": "markdown",
      "source": [
        "2. Crie uma consulta complexa com objetos Q em que retorna todos os autores iniciados \n",
        "com \"Ju\""
      ],
      "metadata": {
        "id": "6SoT8nkwvaOR"
      }
    }
  ]
}